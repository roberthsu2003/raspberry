{
 "cells": [
  {
   "cell_type": "code",
   "execution_count": 4,
   "metadata": {},
   "outputs": [
    {
     "name": "stdout",
     "output_type": "stream",
     "text": [
      "56-57.8-robert-True-6-9-8-10\n"
     ]
    }
   ],
   "source": [
    "#python的變數建立\n",
    "n = 56\n",
    "m = 57.8\n",
    "name = 'robert'\n",
    "is_true = True\n",
    "\n",
    "print(n, m , name, is_true, 6, 9, 8,10,sep='-')"
   ]
  },
  {
   "cell_type": "code",
   "execution_count": 7,
   "metadata": {},
   "outputs": [
    {
     "data": {
      "text/plain": [
       "(int, float, str, bool)"
      ]
     },
     "execution_count": 7,
     "metadata": {},
     "output_type": "execute_result"
    }
   ],
   "source": [
    "#python的基本資料型別\n",
    "type(n), type(m), type(name), type(is_true)"
   ]
  },
  {
   "cell_type": "code",
   "execution_count": 9,
   "metadata": {},
   "outputs": [
    {
     "name": "stdout",
     "output_type": "stream",
     "text": [
      "成年\n"
     ]
    }
   ],
   "source": [
    "age = 26\n",
    "\n",
    "if age < 18:\n",
    "    print(\"未成年\")\n",
    "else:\n",
    "    print(\"成年\")"
   ]
  },
  {
   "cell_type": "code",
   "execution_count": 10,
   "metadata": {},
   "outputs": [
    {
     "name": "stdout",
     "output_type": "stream",
     "text": [
      "成年\n"
     ]
    }
   ],
   "source": [
    "age=26\n",
    "print(\"未成年\") if age<18 else print(\"成年\")"
   ]
  },
  {
   "cell_type": "code",
   "execution_count": 11,
   "metadata": {},
   "outputs": [
    {
     "name": "stdout",
     "output_type": "stream",
     "text": [
      "老年\n"
     ]
    }
   ],
   "source": [
    "age = 55\n",
    "\n",
    "if age < 18:\n",
    "    print(\"未成年\")\n",
    "elif age < 50:\n",
    "    print(\"成年\")\n",
    "else:\n",
    "    print(\"老年\")"
   ]
  },
  {
   "cell_type": "code",
   "execution_count": 12,
   "metadata": {},
   "outputs": [
    {
     "name": "stdout",
     "output_type": "stream",
     "text": [
      "0\n",
      "1\n",
      "2\n",
      "3\n",
      "4\n",
      "5\n",
      "6\n",
      "7\n",
      "8\n",
      "9\n"
     ]
    }
   ],
   "source": [
    "for i in range(10):\n",
    "    print(i)"
   ]
  },
  {
   "cell_type": "code",
   "execution_count": 13,
   "metadata": {},
   "outputs": [
    {
     "name": "stdout",
     "output_type": "stream",
     "text": [
      "taiwan\n",
      "japan\n",
      "us\n"
     ]
    }
   ],
   "source": [
    "for element in ['taiwan', 'japan', 'us']:\n",
    "    print(element)"
   ]
  }
 ],
 "metadata": {
  "kernelspec": {
   "display_name": "Python 3",
   "language": "python",
   "name": "python3"
  },
  "language_info": {
   "codemirror_mode": {
    "name": "ipython",
    "version": 3
   },
   "file_extension": ".py",
   "mimetype": "text/x-python",
   "name": "python",
   "nbconvert_exporter": "python",
   "pygments_lexer": "ipython3",
   "version": "3.9.2"
  },
  "orig_nbformat": 4
 },
 "nbformat": 4,
 "nbformat_minor": 2
}
