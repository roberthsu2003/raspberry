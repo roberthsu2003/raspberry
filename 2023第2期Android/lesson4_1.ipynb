{
 "cells": [
  {
   "cell_type": "code",
   "execution_count": 2,
   "metadata": {},
   "outputs": [
    {
     "name": "stdout",
     "output_type": "stream",
     "text": [
      "1-2-3-4-5-8-a"
     ]
    }
   ],
   "source": [
    "print(1, 2, 3, 4, 5,8,'a', sep='-', end='')"
   ]
  },
  {
   "cell_type": "code",
   "execution_count": 4,
   "metadata": {},
   "outputs": [
    {
     "name": "stdout",
     "output_type": "stream",
     "text": [
      "{'one': 1, 'two': 2, 'three': 3, 'ten': 10}\n"
     ]
    }
   ],
   "source": [
    "def myfunc1(**kwarge):\n",
    "    print(kwarge)\n",
    "\n",
    "myfunc1(one=1, two=2, three=3 ,ten=10)"
   ]
  },
  {
   "cell_type": "code",
   "execution_count": 20,
   "metadata": {},
   "outputs": [],
   "source": [
    "class Person(object):\n",
    "    def __init__(self,name,age=18,gender=\"Male\"):\n",
    "        #attribute\n",
    "        self.name = name\n",
    "        self.age = age\n",
    "        self.gender = gender\n",
    "\n",
    "    def description(self):\n",
    "        print(\"Name: \",self.name)\n",
    "        print(\"Age: \",self.age)\n",
    "        print(\"Gender: \",self.gender)\n",
    "        "
   ]
  },
  {
   "cell_type": "code",
   "execution_count": 21,
   "metadata": {},
   "outputs": [
    {
     "name": "stdout",
     "output_type": "stream",
     "text": [
      "Name:  john\n",
      "Age:  36\n",
      "Gender:  Female\n"
     ]
    }
   ],
   "source": [
    "p1 = Person(name=\"john\",gender=\"Female\",age=36)\n",
    "p1.description()\n"
   ]
  },
  {
   "cell_type": "code",
   "execution_count": 22,
   "metadata": {},
   "outputs": [
    {
     "name": "stdout",
     "output_type": "stream",
     "text": [
      "Name:  jenny\n",
      "Age:  20\n",
      "Gender:  female\n"
     ]
    }
   ],
   "source": [
    "p2 = Person(\"jenny\",age=20,gender=\"female\")\n",
    "p2.description()"
   ]
  }
 ],
 "metadata": {
  "kernelspec": {
   "display_name": "Python 3",
   "language": "python",
   "name": "python3"
  },
  "language_info": {
   "codemirror_mode": {
    "name": "ipython",
    "version": 3
   },
   "file_extension": ".py",
   "mimetype": "text/x-python",
   "name": "python",
   "nbconvert_exporter": "python",
   "pygments_lexer": "ipython3",
   "version": "3.9.2"
  },
  "orig_nbformat": 4
 },
 "nbformat": 4,
 "nbformat_minor": 2
}
